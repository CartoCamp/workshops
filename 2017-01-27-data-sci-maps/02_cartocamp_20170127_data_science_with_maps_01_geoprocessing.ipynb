{
 "cells": [
  {
   "cell_type": "markdown",
   "metadata": {},
   "source": [
    "\n",
    "## [2017-01-27 Workshop: Data Science with Maps | Meetup Page](https://www.meetup.com/CartoCamp/events/236668763/)\n",
    "\n",
    "### Get your Carto API\n",
    "[http://bit.ly/2jmWj5e](http://bit.ly/2jmWj5e)"
   ]
  },
  {
   "cell_type": "markdown",
   "metadata": {},
   "source": [
    "### Create a Virtual Environment\n",
    "If you don't have `virtualenv`\n",
    "\n",
    "    pip install virtualenv\n",
    "\n",
    "Create a folder in the current directory which will contain the Python executable files, and a copy of the pip library which you can use to install other packages. \n",
    "\n",
    "\tvirtualenv env\n",
    "\n",
    "Activate Virtual Env.\n",
    "\n",
    "\tsource env/bin/activate\n",
    "\t\n",
    "Install Pandas OR maybe add REQUIREMENTS.txt\n",
    "    \n",
    "    pip install jupyter\n",
    "    pip install pandas\n",
    "\tpip install requests\n",
    "\n",
    "### Our Data, NYC Taxi Data\n",
    "\n",
    "http://www.nyc.gov/html/tlc/html/about/trip_record_data.shtml\n",
    "\n",
    "    \n",
    "### Update and create a credentials.json modeled after credentials.json.sample\n",
    "\n",
    "    {\"username\": \"eschbacher\",\n",
    "     \"api_key\": \"abcdefghijklmnopqrstuvwxyz1234567890\"}\n",
    "     "
   ]
  },
  {
   "cell_type": "code",
   "execution_count": 65,
   "metadata": {
    "collapsed": true
   },
   "outputs": [],
   "source": [
    "import warnings\n",
    "warnings.filterwarnings('ignore')\n",
    "\n",
    "pd.options.display.max_columns = 100\n",
    "pd.options.display.max_rows    = 100\n",
    "pd.set_option('display.width', 100)    #http://stackoverflow.com/questions/11707586/python-pandas-widen-output-display\n",
    "pd.set_option('display.max_rows', 500) #http://stackoverflow.com/questions/11707586/python-pandas-widen-output-display"
   ]
  },
  {
   "cell_type": "markdown",
   "metadata": {},
   "source": [
    "# Getting a Dataframe from Carto's SQL API "
   ]
  },
  {
   "cell_type": "code",
   "execution_count": 66,
   "metadata": {
    "collapsed": false
   },
   "outputs": [
    {
     "name": "stdout",
     "output_type": "stream",
     "text": [
      "   cartodb_id  the_geom  the_geom_webmercator  vendorid    tpep_pickup_datetime  \\\n",
      "0           1       NaN                   NaN         1  2015-04-15 19:35:10+00   \n",
      "1           2       NaN                   NaN         1  2015-04-15 19:35:10+00   \n",
      "2           3       NaN                   NaN         1  2015-04-15 19:35:11+00   \n",
      "\n",
      "    tpep_dropoff_datetime  passenger_count  trip_distance  pickup_longitude  pickup_latitude  \\\n",
      "0  2015-04-15 20:22:59+00                1           13.2        -73.982346        40.773956   \n",
      "1  2015-04-15 19:44:02+00                1            2.1        -73.987564        40.755409   \n",
      "2  2015-04-15 19:41:43+00                1            0.9          0.000000         0.000000   \n",
      "\n",
      "   ratecodeid store_and_fwd_flag  dropoff_longitude  dropoff_latitude  payment_type  fare_amount  \\\n",
      "0           1              False         -73.946808         40.631737             1         44.0   \n",
      "1           1              False         -74.005234         40.728886             1          9.0   \n",
      "2           1              False           0.000000          0.000000             2          6.5   \n",
      "\n",
      "   extra  mta_tax  tip_amount  tolls_amount  improvement_surcharge  total_amount pickup_date  \\\n",
      "0    1.0      0.5       10.25          5.54                    0.3         61.59  2015-04-15   \n",
      "1    1.0      0.5        2.70          0.00                    0.3         13.50  2015-04-15   \n",
      "2    1.0      0.5        0.00          0.00                    0.3          8.30  2015-04-15   \n",
      "\n",
      "  tpep_pickup_date  \n",
      "0       2015-04-15  \n",
      "1       2015-04-15  \n",
      "2       2015-04-15  \n"
     ]
    }
   ],
   "source": [
    "import json\n",
    "import pandas as pd \n",
    "import requests\n",
    "import io\n",
    "import os\n",
    "import shutil\n",
    "\n",
    "cred = json.load(open('credentials_nygeog.json')) # modify credentials.json.sample\n",
    "source_username = 'sheehan-carto' #leave this as is, the table we're pulling from is in my account\n",
    "username = cred['username']\n",
    "api_key  = cred['api_key']\n",
    "\n",
    "tablename = 'yellow_tripdata_2015_04_15_n_3000'\n",
    "size      = 3000\n",
    "\n",
    "url = 'https://%s.carto.com/api/v2/sql?q=SELECT * FROM %s LIMIT %s&format=csv' % (source_username , tablename, str(size))\n",
    "\n",
    "s  = requests.get(url).content\n",
    "df = pd.read_csv(io.StringIO(s.decode('utf-8')))\n",
    "\n",
    "print df.head(3)"
   ]
  },
  {
   "cell_type": "markdown",
   "metadata": {},
   "source": [
    "# Get columns for desired output and intersect with tracts"
   ]
  },
  {
   "cell_type": "code",
   "execution_count": 67,
   "metadata": {
    "collapsed": false
   },
   "outputs": [
    {
     "name": "stdout",
     "output_type": "stream",
     "text": [
      "   pickup_geoid  count_pickup\n",
      "0   36005009300             1\n",
      "1   36005014100             1\n",
      "2   36047000502             1\n",
      "293\n"
     ]
    }
   ],
   "source": [
    "cols = []\n",
    "\n",
    "for i in df.columns:\n",
    "\tcols.append(i)\n",
    "\n",
    "del cols[:3] #delete cartodb_id, the_geom, the_geom_webmercator,\n",
    "cols = cols + ['geoid']    \n",
    "c = ', '.join(cols) #list of cols to keep to string for SQL statement\n",
    "    \n",
    "points = 'yellow_tripdata_2015_04_15_n_3000'\n",
    "poly   = 'tl_2014_census_tracts_statefp_36'    \n",
    "lat    = points + '.pickup_latitude'\n",
    "lng    = points + '.pickup_longitude'\n",
    "\n",
    "url = \"https://%s.carto.com/api/v2/sql?q=SELECT %s FROM %s, %s  WHERE ST_INTERSECTS(ST_SetSRID(ST_Point(%s, %s),4326), %s.the_geom)&format=csv\" % (source_username, c, points, poly, lng, lat, poly )\n",
    "s  = requests.get(url).content\n",
    "\n",
    "df = pd.read_csv(io.StringIO(s.decode('utf-8')))\n",
    "\n",
    "try:\n",
    "    df = df.rename(columns=lambda x: x.replace('geoid', 'pickup_geoid'))\n",
    "except:\n",
    "    raise\n",
    "    \n",
    "dfp = df[['pickup_geoid']]\n",
    "dfp['count_pickup'] = 1\n",
    "dfp = dfp.groupby(['pickup_geoid'],as_index=False).sum()\n",
    "\n",
    "print dfp.head(3)\n",
    "\n",
    "if not os.path.exists('temp'): #create temp folder\n",
    "    os.makedirs('temp')\n",
    "\n",
    "print len(dfp.index)\n",
    "\n",
    "dfp.to_csv('temp/'+points+'.csv', index=False)"
   ]
  },
  {
   "cell_type": "markdown",
   "metadata": {},
   "source": [
    "# Send your .csv up to Carto"
   ]
  },
  {
   "cell_type": "code",
   "execution_count": 70,
   "metadata": {
    "collapsed": false
   },
   "outputs": [
    {
     "name": "stdout",
     "output_type": "stream",
     "text": [
      "temp folder not there\n"
     ]
    }
   ],
   "source": [
    "os.system('curl -v -F file=@temp/'+points+'.csv \"https://'+username+'.carto.com/api/v1/imports/?api_key=\"'+api_key)\n",
    "\n",
    "try:\n",
    "    shutil.rmtree('temp') #delete temp folder\n",
    "except:\n",
    "    print 'temp folder not there'"
   ]
  },
  {
   "cell_type": "markdown",
   "metadata": {},
   "source": [
    "# Using SQL JOIN Pickup Counts to Tracts"
   ]
  },
  {
   "cell_type": "markdown",
   "metadata": {},
   "source": [
    "### First Copy these files into you Carto Account\n",
    "\n",
    "1. COPY AND PASTE THIS HERE, https://team.carto.com/u/sheehan-carto/dashboard CONNECT DATASET\n",
    "\n",
    "    https://sheehan-carto.carto.com:443/api/v2/sql?q=select%20*%20from%20\"sheehan-carto\".tl_2014_census_tracts_statefp_36&format=geojson&filename=tl_2014_census_tracts_statefp_36\n",
    "    \n",
    " \n",
    "2. COPY AND PASTE THIS HERE, https://team.carto.com/u/sheehan-carto/dashboard CONNECT DATASET\n",
    " \n",
    "    https://sheehan-carto.carto.com:443/api/v2/sql?q=select%20*%20from%20\"sheehan-carto\".yellow_tripdata_2015_04_15_n_3000&format=geojson&filename=yellow_tripdata_2015_04_15_n_3000"
   ]
  },
  {
   "cell_type": "code",
   "execution_count": 73,
   "metadata": {
    "collapsed": false
   },
   "outputs": [
    {
     "name": "stdout",
     "output_type": "stream",
     "text": [
      "https://nygeog.carto.com/api/v2/sql?q=CREATE TABLE yellow_pickups_by_tract_2015_04_15_n_3000 AS SELECT tl_2014_census_tracts_statefp_36.the_geom, tl_2014_census_tracts_statefp_36.geoid , yellow_tripdata_2015_04_15_n_3000.count_pickup FROM tl_2014_census_tracts_statefp_36, yellow_tripdata_2015_04_15_n_3000 WHERE tl_2014_census_tracts_statefp_36.geoid = yellow_tripdata_2015_04_15_n_3000.pickup_geoid::text&api_key=4afbc252f49ea8a83920e2378df77fbe0a58a806\n"
     ]
    }
   ],
   "source": [
    "new_table = 'yellow_pickups_by_tract_2015_04_15_n_3000'\n",
    "         \n",
    "url = \"https://%s.carto.com/api/v2/sql?q=CREATE TABLE %s AS SELECT %s.the_geom, %s.geoid , %s.count_pickup FROM %s, %s WHERE %s.geoid = %s.pickup_geoid::text&api_key=%s\" % (username, new_table, poly, poly, points, poly, points, poly, points, api_key)\n",
    "print url\n",
    "s  = requests.get(url).content"
   ]
  },
  {
   "cell_type": "markdown",
   "metadata": {},
   "source": [
    "# CartoDBFY Your New Table \n",
    "    SELECT cdb_cartodbfytable('your-account-name', 'your-table-name');\n",
    "OR \n",
    "    \n",
    "    SELECT cdb_cartodbfytable('your-table-name');"
   ]
  },
  {
   "cell_type": "code",
   "execution_count": 63,
   "metadata": {
    "collapsed": false
   },
   "outputs": [
    {
     "name": "stdout",
     "output_type": "stream",
     "text": [
      "https://sheehan-carto.carto.com/api/v2/sql?q=SELECT cdb_cartodbfytable('sheehan-carto','yellow_pickups_by_tract_2015_04_15_n_3000')&api_key=6f74410ee81d7db76ccd338768a6790910a0c920\n"
     ]
    }
   ],
   "source": [
    "If you have a team CARTO account, run this, commment this out\n",
    "url = \"https://%s.carto.com/api/v2/sql?q=SELECT cdb_cartodbfytable('%s','%s')&api_key=%s\" % (username, username, new_table, api_key)\n",
    "print url      \n",
    "s  = requests.get(url).content"
   ]
  },
  {
   "cell_type": "code",
   "execution_count": 74,
   "metadata": {
    "collapsed": false
   },
   "outputs": [
    {
     "name": "stdout",
     "output_type": "stream",
     "text": [
      "https://nygeog.carto.com/api/v2/sql?q=SELECT cdb_cartodbfytable('yellow_pickups_by_tract_2015_04_15_n_3000')&api_key=4afbc252f49ea8a83920e2378df77fbe0a58a806\n"
     ]
    }
   ],
   "source": [
    "#If you have a free or basic or personal CARTO account, run this, commment this out\n",
    "url = \"https://%s.carto.com/api/v2/sql?q=SELECT cdb_cartodbfytable('%s')&api_key=%s\" % (username, new_table, api_key)\n",
    "print url \n",
    "s  = requests.get(url).content"
   ]
  },
  {
   "cell_type": "code",
   "execution_count": null,
   "metadata": {
    "collapsed": true
   },
   "outputs": [],
   "source": []
  }
 ],
 "metadata": {
  "kernelspec": {
   "display_name": "Python 2",
   "language": "python",
   "name": "python2"
  },
  "language_info": {
   "codemirror_mode": {
    "name": "ipython",
    "version": 2
   },
   "file_extension": ".py",
   "mimetype": "text/x-python",
   "name": "python",
   "nbconvert_exporter": "python",
   "pygments_lexer": "ipython2",
   "version": "2.7.10"
  }
 },
 "nbformat": 4,
 "nbformat_minor": 0
}
