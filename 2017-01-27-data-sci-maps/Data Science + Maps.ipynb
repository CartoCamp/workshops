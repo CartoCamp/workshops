{
 "cells": [
  {
   "cell_type": "markdown",
   "metadata": {},
   "source": [
    "# CartoCamp: Data Science + Maps workshop\n",
    "\n",
    "Jan 27, 2017\n",
    "\n",
    "* Andy Eschbacher, map scientist, CARTO, [@MrEPhysics](https://twitter.com/MrEPhysics), andy@carto.com\n",
    "* Danny Sheehan, solutions engineer, CARTO, [@nygeog](https://twitter.com/nygeog), danny@carto.com\n",
    "\n"
   ]
  },
  {
   "cell_type": "code",
   "execution_count": null,
   "metadata": {
    "collapsed": true
   },
   "outputs": [],
   "source": []
  }
 ],
 "metadata": {
  "kernelspec": {
   "display_name": "Python 2",
   "language": "python",
   "name": "python2"
  },
  "language_info": {
   "codemirror_mode": {
    "name": "ipython",
    "version": 2
   },
   "file_extension": ".py",
   "mimetype": "text/x-python",
   "name": "python",
   "nbconvert_exporter": "python",
   "pygments_lexer": "ipython2",
   "version": "2.7.13"
  }
 },
 "nbformat": 4,
 "nbformat_minor": 2
}
