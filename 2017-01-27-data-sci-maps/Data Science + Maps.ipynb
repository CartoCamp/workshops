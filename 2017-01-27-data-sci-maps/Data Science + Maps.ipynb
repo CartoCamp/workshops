{
 "cells": [
  {
   "cell_type": "markdown",
   "metadata": {},
   "source": [
    "# CartoCamp: Data Science + Maps workshop\n",
    "\n",
    "### Jan 27, 2017\n",
    "\n",
    "* Andy Eschbacher, map scientist, CARTO, [@MrEPhysics](https://twitter.com/MrEPhysics), andy@carto.com\n",
    "* Danny Sheehan, solutions engineer, CARTO, [@nygeog](https://twitter.com/nygeog), danny@carto.com\n",
    "\n",
    "Event page: https://www.meetup.com/CartoCamp/events/236668763/"
   ]
  },
  {
   "cell_type": "markdown",
   "metadata": {
    "collapsed": true
   },
   "source": [
    "## Why we're having this workshop\n",
    "\n",
    "We've been frustrated by the pain points in working including maps in the data science workflow, especially interactive maps. While we don't have a full solution, we're going to show you some of the tricks and tips we've picked up along the way. We also hope that you can share what you've learned here and open a pull request against this repo to include things that we left out!\n",
    "\n",
    "**Our goal** today is to **analyze spatial data** and **visualize it (i.e., create maps)** in a standard data science workflow and toolkit (Jupyter notebook + pandas, scikit-learn, requests, NumPy, ...). We'll be using CARTO for some of the spatial processing and map generation.\n",
    "\n"
   ]
  },
  {
   "cell_type": "code",
   "execution_count": 1,
   "metadata": {
    "collapsed": false
   },
   "outputs": [
    {
     "data": {
      "text/html": [
       "<iframe width=\"100%\" height=\"520\" frameborder=\"0\" src=\"https://team.carto.com/u/eschbacher/builder/96da150a-b8c9-11e6-8a45-0ecd1babdde5/embed\" allowfullscreen webkitallowfullscreen mozallowfullscreen oallowfullscreen msallowfullscreen></iframe>"
      ],
      "text/plain": [
       "<IPython.core.display.HTML object>"
      ]
     },
     "execution_count": 1,
     "metadata": {},
     "output_type": "execute_result"
    }
   ],
   "source": [
    "import IPython\n",
    "iframe = '<iframe width=\"100%\" height=\"520\" frameborder=\"0\" src=\"https://team.carto.com/u/eschbacher/builder/96da150a-b8c9-11e6-8a45-0ecd1babdde5/embed\" allowfullscreen webkitallowfullscreen mozallowfullscreen oallowfullscreen msallowfullscreen></iframe>'\n",
    "IPython.display.HTML(iframe)"
   ]
  },
  {
   "cell_type": "markdown",
   "metadata": {},
   "source": [
    "## Getting setup\n",
    "\n",
    "* Development environment: check out the [README](https://github.com/CartoCamp/workshops/tree/master/2017-01-27-data-sci-maps/README.md) to get up and going!\n",
    "* Get a CARTO account"
   ]
  },
  {
   "cell_type": "markdown",
   "metadata": {},
   "source": [
    "## Grabbing the taxi data\n",
    "\n",
    "**BEWARE** there are around 11 million entries in this dataset (which is around 1 GB), so make sure to subsample the pieces you want. Using WHERE filters or LIMITs in SQL are the best way to get subsamples.\n",
    "\n",
    "This dataset is stored in my CARTO account, and we'll access it via CARTO's [SQL API](https://carto.com/docs/carto-engine/sql-api)."
   ]
  },
  {
   "cell_type": "code",
   "execution_count": 2,
   "metadata": {
    "collapsed": false
   },
   "outputs": [],
   "source": [
    "import pandas as pd\n",
    "import numpy as np\n",
    "\n",
    "NUMROWS = 50000\n",
    "DAY = '2015-08-22'\n",
    "cred = json.load(open('credentials.json')) # modify credentials.json.sample\n",
    "\n",
    "username = cred['username']\n",
    "api_key  = cred['api_key']\n",
    "\n",
    "sql_api_template = 'https://{username}.carto.com/api/v2/sql?q={query}&format=csv'\n",
    "\n",
    "def uri_query(query):\n",
    "    \"\"\"\n",
    "        Prepare SQL queries for API usage\n",
    "    \"\"\"\n",
    "    return query.strip().replace('\\n', ' ').replace(' ', '%20')"
   ]
  },
  {
   "cell_type": "markdown",
   "metadata": {},
   "source": [
    "### Understanding our data"
   ]
  },
  {
   "cell_type": "code",
   "execution_count": 3,
   "metadata": {
    "collapsed": false
   },
   "outputs": [
    {
     "data": {
      "text/html": [
       "<div>\n",
       "<table border=\"1\" class=\"dataframe\">\n",
       "  <thead>\n",
       "    <tr style=\"text-align: right;\">\n",
       "      <th></th>\n",
       "      <th>the_geom</th>\n",
       "      <th>the_geom_webmercator</th>\n",
       "      <th>vendorid</th>\n",
       "      <th>tpep_pickup_datetime</th>\n",
       "      <th>tpep_dropoff_datetime</th>\n",
       "      <th>passenger_count</th>\n",
       "      <th>trip_distance</th>\n",
       "      <th>pickup_longitude</th>\n",
       "      <th>pickup_latitude</th>\n",
       "      <th>ratecodeid</th>\n",
       "      <th>...</th>\n",
       "      <th>dropoff_longitude</th>\n",
       "      <th>dropoff_latitude</th>\n",
       "      <th>payment_type</th>\n",
       "      <th>fare_amount</th>\n",
       "      <th>extra</th>\n",
       "      <th>mta_tax</th>\n",
       "      <th>tip_amount</th>\n",
       "      <th>tolls_amount</th>\n",
       "      <th>improvement_surcharge</th>\n",
       "      <th>total_amount</th>\n",
       "    </tr>\n",
       "    <tr>\n",
       "      <th>cartodb_id</th>\n",
       "      <th></th>\n",
       "      <th></th>\n",
       "      <th></th>\n",
       "      <th></th>\n",
       "      <th></th>\n",
       "      <th></th>\n",
       "      <th></th>\n",
       "      <th></th>\n",
       "      <th></th>\n",
       "      <th></th>\n",
       "      <th></th>\n",
       "      <th></th>\n",
       "      <th></th>\n",
       "      <th></th>\n",
       "      <th></th>\n",
       "      <th></th>\n",
       "      <th></th>\n",
       "      <th></th>\n",
       "      <th></th>\n",
       "      <th></th>\n",
       "      <th></th>\n",
       "    </tr>\n",
       "  </thead>\n",
       "  <tbody>\n",
       "    <tr>\n",
       "      <th>57444070</th>\n",
       "      <td>NaN</td>\n",
       "      <td>NaN</td>\n",
       "      <td>1</td>\n",
       "      <td>2015-08-16 21:46:13+00</td>\n",
       "      <td>2015-08-16 21:49:45+00</td>\n",
       "      <td>1</td>\n",
       "      <td>0.80</td>\n",
       "      <td>-73.984764</td>\n",
       "      <td>40.732044</td>\n",
       "      <td>1</td>\n",
       "      <td>...</td>\n",
       "      <td>-73.996231</td>\n",
       "      <td>40.738121</td>\n",
       "      <td>1</td>\n",
       "      <td>4.5</td>\n",
       "      <td>0.5</td>\n",
       "      <td>0.5</td>\n",
       "      <td>1.0</td>\n",
       "      <td>0.0</td>\n",
       "      <td>0.3</td>\n",
       "      <td>6.8</td>\n",
       "    </tr>\n",
       "    <tr>\n",
       "      <th>57443485</th>\n",
       "      <td>NaN</td>\n",
       "      <td>NaN</td>\n",
       "      <td>1</td>\n",
       "      <td>2015-08-16 21:34:51+00</td>\n",
       "      <td>2015-08-16 21:37:31+00</td>\n",
       "      <td>1</td>\n",
       "      <td>0.40</td>\n",
       "      <td>-73.979912</td>\n",
       "      <td>40.759033</td>\n",
       "      <td>1</td>\n",
       "      <td>...</td>\n",
       "      <td>-73.977104</td>\n",
       "      <td>40.764370</td>\n",
       "      <td>2</td>\n",
       "      <td>4.0</td>\n",
       "      <td>0.5</td>\n",
       "      <td>0.5</td>\n",
       "      <td>0.0</td>\n",
       "      <td>0.0</td>\n",
       "      <td>0.3</td>\n",
       "      <td>5.3</td>\n",
       "    </tr>\n",
       "    <tr>\n",
       "      <th>57443486</th>\n",
       "      <td>NaN</td>\n",
       "      <td>NaN</td>\n",
       "      <td>1</td>\n",
       "      <td>2015-08-16 21:34:51+00</td>\n",
       "      <td>2015-08-16 21:40:40+00</td>\n",
       "      <td>1</td>\n",
       "      <td>1.00</td>\n",
       "      <td>-73.984917</td>\n",
       "      <td>40.760937</td>\n",
       "      <td>1</td>\n",
       "      <td>...</td>\n",
       "      <td>-73.977905</td>\n",
       "      <td>40.753777</td>\n",
       "      <td>2</td>\n",
       "      <td>6.0</td>\n",
       "      <td>0.5</td>\n",
       "      <td>0.5</td>\n",
       "      <td>0.0</td>\n",
       "      <td>0.0</td>\n",
       "      <td>0.3</td>\n",
       "      <td>7.3</td>\n",
       "    </tr>\n",
       "    <tr>\n",
       "      <th>57443487</th>\n",
       "      <td>NaN</td>\n",
       "      <td>NaN</td>\n",
       "      <td>1</td>\n",
       "      <td>2015-08-16 21:34:51+00</td>\n",
       "      <td>2015-08-16 21:42:02+00</td>\n",
       "      <td>1</td>\n",
       "      <td>0.80</td>\n",
       "      <td>-73.999802</td>\n",
       "      <td>40.728455</td>\n",
       "      <td>1</td>\n",
       "      <td>...</td>\n",
       "      <td>-73.994766</td>\n",
       "      <td>40.730343</td>\n",
       "      <td>2</td>\n",
       "      <td>6.5</td>\n",
       "      <td>0.5</td>\n",
       "      <td>0.5</td>\n",
       "      <td>0.0</td>\n",
       "      <td>0.0</td>\n",
       "      <td>0.3</td>\n",
       "      <td>7.8</td>\n",
       "    </tr>\n",
       "    <tr>\n",
       "      <th>57443488</th>\n",
       "      <td>NaN</td>\n",
       "      <td>NaN</td>\n",
       "      <td>2</td>\n",
       "      <td>2015-08-16 21:34:51+00</td>\n",
       "      <td>2015-08-16 22:01:42+00</td>\n",
       "      <td>1</td>\n",
       "      <td>5.86</td>\n",
       "      <td>-73.971428</td>\n",
       "      <td>40.744301</td>\n",
       "      <td>1</td>\n",
       "      <td>...</td>\n",
       "      <td>-73.964188</td>\n",
       "      <td>40.679691</td>\n",
       "      <td>2</td>\n",
       "      <td>22.0</td>\n",
       "      <td>0.5</td>\n",
       "      <td>0.5</td>\n",
       "      <td>0.0</td>\n",
       "      <td>0.0</td>\n",
       "      <td>0.3</td>\n",
       "      <td>23.3</td>\n",
       "    </tr>\n",
       "  </tbody>\n",
       "</table>\n",
       "<p>5 rows × 21 columns</p>\n",
       "</div>"
      ],
      "text/plain": [
       "            the_geom  the_geom_webmercator  vendorid    tpep_pickup_datetime  \\\n",
       "cartodb_id                                                                     \n",
       "57444070         NaN                   NaN         1  2015-08-16 21:46:13+00   \n",
       "57443485         NaN                   NaN         1  2015-08-16 21:34:51+00   \n",
       "57443486         NaN                   NaN         1  2015-08-16 21:34:51+00   \n",
       "57443487         NaN                   NaN         1  2015-08-16 21:34:51+00   \n",
       "57443488         NaN                   NaN         2  2015-08-16 21:34:51+00   \n",
       "\n",
       "             tpep_dropoff_datetime  passenger_count  trip_distance  \\\n",
       "cartodb_id                                                           \n",
       "57444070    2015-08-16 21:49:45+00                1           0.80   \n",
       "57443485    2015-08-16 21:37:31+00                1           0.40   \n",
       "57443486    2015-08-16 21:40:40+00                1           1.00   \n",
       "57443487    2015-08-16 21:42:02+00                1           0.80   \n",
       "57443488    2015-08-16 22:01:42+00                1           5.86   \n",
       "\n",
       "            pickup_longitude  pickup_latitude  ratecodeid      ...       \\\n",
       "cartodb_id                                                     ...        \n",
       "57444070          -73.984764        40.732044           1      ...        \n",
       "57443485          -73.979912        40.759033           1      ...        \n",
       "57443486          -73.984917        40.760937           1      ...        \n",
       "57443487          -73.999802        40.728455           1      ...        \n",
       "57443488          -73.971428        40.744301           1      ...        \n",
       "\n",
       "           dropoff_longitude  dropoff_latitude  payment_type  fare_amount  \\\n",
       "cartodb_id                                                                  \n",
       "57444070          -73.996231         40.738121             1          4.5   \n",
       "57443485          -73.977104         40.764370             2          4.0   \n",
       "57443486          -73.977905         40.753777             2          6.0   \n",
       "57443487          -73.994766         40.730343             2          6.5   \n",
       "57443488          -73.964188         40.679691             2         22.0   \n",
       "\n",
       "            extra  mta_tax  tip_amount  tolls_amount  improvement_surcharge  \\\n",
       "cartodb_id                                                                    \n",
       "57444070      0.5      0.5         1.0           0.0                    0.3   \n",
       "57443485      0.5      0.5         0.0           0.0                    0.3   \n",
       "57443486      0.5      0.5         0.0           0.0                    0.3   \n",
       "57443487      0.5      0.5         0.0           0.0                    0.3   \n",
       "57443488      0.5      0.5         0.0           0.0                    0.3   \n",
       "\n",
       "            total_amount  \n",
       "cartodb_id                \n",
       "57444070             6.8  \n",
       "57443485             5.3  \n",
       "57443486             7.3  \n",
       "57443487             7.8  \n",
       "57443488            23.3  \n",
       "\n",
       "[5 rows x 21 columns]"
      ]
     },
     "execution_count": 3,
     "metadata": {},
     "output_type": "execute_result"
    }
   ],
   "source": [
    "query = '''\n",
    "SELECT * FROM taxi_aug15_sept15\n",
    "LIMIT 10\n",
    "'''\n",
    "\n",
    "sql_api_request = sql_api_template.format(query=uri_query(query),\n",
    "                                          username=username)\n",
    "df = pd.read_csv(sql_api_request).set_index('cartodb_id')\n",
    "\n",
    "df.head()"
   ]
  },
  {
   "cell_type": "code",
   "execution_count": 23,
   "metadata": {
    "collapsed": false
   },
   "outputs": [
    {
     "data": {
      "text/plain": [
       "Index([u'the_geom', u'the_geom_webmercator', u'vendorid',\n",
       "       u'tpep_pickup_datetime', u'tpep_dropoff_datetime', u'passenger_count',\n",
       "       u'trip_distance', u'pickup_longitude', u'pickup_latitude',\n",
       "       u'ratecodeid', u'store_and_fwd_flag', u'dropoff_longitude',\n",
       "       u'dropoff_latitude', u'payment_type', u'fare_amount', u'extra',\n",
       "       u'mta_tax', u'tip_amount', u'tolls_amount', u'improvement_surcharge',\n",
       "       u'total_amount'],\n",
       "      dtype='object')"
      ]
     },
     "execution_count": 23,
     "metadata": {},
     "output_type": "execute_result"
    }
   ],
   "source": [
    "df.columns"
   ]
  },
  {
   "cell_type": "markdown",
   "metadata": {},
   "source": [
    "### Let's get a summary of the data"
   ]
  },
  {
   "cell_type": "code",
   "execution_count": 28,
   "metadata": {
    "collapsed": false
   },
   "outputs": [
    {
     "data": {
      "text/html": [
       "<div>\n",
       "<table border=\"1\" class=\"dataframe\">\n",
       "  <thead>\n",
       "    <tr style=\"text-align: right;\">\n",
       "      <th></th>\n",
       "      <th>min_date</th>\n",
       "      <th>max_date</th>\n",
       "      <th>n_trips</th>\n",
       "      <th>n_total_passengers</th>\n",
       "      <th>max_n_passengers</th>\n",
       "      <th>avg_trip_distance</th>\n",
       "      <th>max_fare</th>\n",
       "      <th>avg_fare</th>\n",
       "      <th>min_fare</th>\n",
       "      <th>max_tip_amount</th>\n",
       "      <th>avg_tip_amount</th>\n",
       "      <th>min_tip_amount</th>\n",
       "      <th>n_trips_with_tolls</th>\n",
       "    </tr>\n",
       "  </thead>\n",
       "  <tbody>\n",
       "    <tr>\n",
       "      <th>0</th>\n",
       "      <td>2015-08-15 04:00:00+00</td>\n",
       "      <td>2015-09-16 03:59:59+00</td>\n",
       "      <td>11471615</td>\n",
       "      <td>19392566</td>\n",
       "      <td>9</td>\n",
       "      <td>8.428135</td>\n",
       "      <td>124518.47</td>\n",
       "      <td>13.12243</td>\n",
       "      <td>-400</td>\n",
       "      <td>800</td>\n",
       "      <td>1.671428</td>\n",
       "      <td>-100</td>\n",
       "      <td>637424</td>\n",
       "    </tr>\n",
       "  </tbody>\n",
       "</table>\n",
       "</div>"
      ],
      "text/plain": [
       "                 min_date                max_date   n_trips  \\\n",
       "0  2015-08-15 04:00:00+00  2015-09-16 03:59:59+00  11471615   \n",
       "\n",
       "   n_total_passengers  max_n_passengers  avg_trip_distance   max_fare  \\\n",
       "0            19392566                 9           8.428135  124518.47   \n",
       "\n",
       "   avg_fare  min_fare  max_tip_amount  avg_tip_amount  min_tip_amount  \\\n",
       "0  13.12243      -400             800        1.671428            -100   \n",
       "\n",
       "   n_trips_with_tolls  \n",
       "0              637424  "
      ]
     },
     "execution_count": 28,
     "metadata": {},
     "output_type": "execute_result"
    }
   ],
   "source": [
    "query = '''\n",
    "SELECT \n",
    "    min(tpep_pickup_datetime) As min_date,\n",
    "    max(tpep_pickup_datetime) As max_date,\n",
    "    count(*) As n_trips,\n",
    "    sum(passenger_count) As n_total_passengers,\n",
    "    max(passenger_count) As max_n_passengers,\n",
    "    avg(trip_distance) As avg_trip_distance,\n",
    "    max(fare_amount) As max_fare,\n",
    "    avg(fare_amount) As avg_fare,\n",
    "    min(fare_amount) As min_fare,\n",
    "    max(tip_amount) As max_tip_amount,\n",
    "    avg(tip_amount) As avg_tip_amount,\n",
    "    min(tip_amount) As min_tip_amount,\n",
    "    count(tolls_amount) FILTER (WHERE tolls_amount > 0) n_trips_with_tolls\n",
    "FROM \n",
    "    taxi_aug15_sept15\n",
    "'''\n",
    "\n",
    "summary = pd.read_csv(sql_api_template.format(query=uri_query(query), \n",
    "                                              username=username))\n",
    "summary.head()"
   ]
  },
  {
   "cell_type": "code",
   "execution_count": 29,
   "metadata": {
    "collapsed": false,
    "scrolled": true
   },
   "outputs": [
    {
     "data": {
      "text/html": [
       "<div>\n",
       "<table border=\"1\" class=\"dataframe\">\n",
       "  <thead>\n",
       "    <tr style=\"text-align: right;\">\n",
       "      <th></th>\n",
       "      <th>long</th>\n",
       "      <th>lat</th>\n",
       "      <th>passenger_count</th>\n",
       "      <th>fare_amount</th>\n",
       "      <th>total_amount</th>\n",
       "    </tr>\n",
       "  </thead>\n",
       "  <tbody>\n",
       "    <tr>\n",
       "      <th>0</th>\n",
       "      <td>-73.971123</td>\n",
       "      <td>40.763165</td>\n",
       "      <td>1</td>\n",
       "      <td>4000.85</td>\n",
       "      <td>4001.35</td>\n",
       "    </tr>\n",
       "    <tr>\n",
       "      <th>1</th>\n",
       "      <td>-73.870979</td>\n",
       "      <td>40.773621</td>\n",
       "      <td>3</td>\n",
       "      <td>107399.55</td>\n",
       "      <td>107445.09</td>\n",
       "    </tr>\n",
       "    <tr>\n",
       "      <th>2</th>\n",
       "      <td>-74.013664</td>\n",
       "      <td>40.706070</td>\n",
       "      <td>2</td>\n",
       "      <td>2759.07</td>\n",
       "      <td>2759.37</td>\n",
       "    </tr>\n",
       "    <tr>\n",
       "      <th>3</th>\n",
       "      <td>-74.014252</td>\n",
       "      <td>40.706596</td>\n",
       "      <td>1</td>\n",
       "      <td>2759.07</td>\n",
       "      <td>2759.37</td>\n",
       "    </tr>\n",
       "    <tr>\n",
       "      <th>4</th>\n",
       "      <td>-74.014206</td>\n",
       "      <td>40.706814</td>\n",
       "      <td>1</td>\n",
       "      <td>2759.07</td>\n",
       "      <td>2759.37</td>\n",
       "    </tr>\n",
       "  </tbody>\n",
       "</table>\n",
       "</div>"
      ],
      "text/plain": [
       "        long        lat  passenger_count  fare_amount  total_amount\n",
       "0 -73.971123  40.763165                1      4000.85       4001.35\n",
       "1 -73.870979  40.773621                3    107399.55     107445.09\n",
       "2 -74.013664  40.706070                2      2759.07       2759.37\n",
       "3 -74.014252  40.706596                1      2759.07       2759.37\n",
       "4 -74.014206  40.706814                1      2759.07       2759.37"
      ]
     },
     "execution_count": 29,
     "metadata": {},
     "output_type": "execute_result"
    }
   ],
   "source": [
    "query = '''\n",
    "SELECT \n",
    "    pickup_longitude as long,\n",
    "    pickup_latitude as lat,\n",
    "    passenger_count,\n",
    "    fare_amount,\n",
    "    total_amount\n",
    "FROM \n",
    "    taxi_aug15_sept15\n",
    "WHERE\n",
    "    fare_amount > 1000\n",
    "'''\n",
    "\n",
    "high_rollers = pd.read_csv(api_template.format(query=uri_query(query), username=username))\n",
    "out_name = 'high_rollers'\n",
    "high_rollers.head()"
   ]
  },
  {
   "cell_type": "code",
   "execution_count": 34,
   "metadata": {
    "collapsed": false
   },
   "outputs": [],
   "source": [
    "def send_to_carto(df, tablename, n_iters=10):\n",
    "    import requests\n",
    "    import time\n",
    "    import json\n",
    "    filename = '{}.csv'.format(tablename)\n",
    "    df.to_csv('{}.csv'.format(filename))\n",
    "    cred = json.load(open('credentials.json')) # modify credentials.json.sample\n",
    "\n",
    "    username = cred['username']\n",
    "    api_key  = cred['api_key']\n",
    "    api_template = \"https://{username}.carto.com/api/v1/imports/?api_key={api_key}\"\n",
    "    files = {'file': open(filename , 'rb')}\n",
    "    resp = requests.post(api_template.format(username=username, \n",
    "                                             api_key=api_key),\n",
    "                         files=files)\n",
    "    queue_id = json.loads(resp.text)['item_queue_id']\n",
    "    print(\"item_queue_id: {}\".format(queue_id))\n",
    "\n",
    "    last_status = None\n",
    "    for i in range(n_iters):\n",
    "        time.sleep(2)\n",
    "        api_call_status = 'https://{username}.carto.com/api/v1/imports/{queue_id}?api_key={api_key}'\n",
    "        status = requests.get(api_call_status.format(username=username,\n",
    "                                                     api_key=api_key,\n",
    "                                                     queue_id=queue_id))\n",
    "        if json.loads(status.text)['state'] != last_status:\n",
    "            print(\"{tablename}: {state}\".format(tablename=tablename,\n",
    "                                               state=json.loads(status.text)['state']))\n",
    "        last_status = json.loads(status.text)['state']\n",
    "        if last_status in ('complete', 'failure'):\n",
    "            break"
   ]
  },
  {
   "cell_type": "code",
   "execution_count": 35,
   "metadata": {
    "collapsed": false
   },
   "outputs": [
    {
     "name": "stdout",
     "output_type": "stream",
     "text": [
      "item_queue_id: ba3dbb70-ce25-44c1-a53a-36b6e727f938\n",
      "high_rollers: importing\n",
      "high_rollers: complete\n"
     ]
    }
   ],
   "source": [
    "send_to_carto(high_rollers, 'high_rollers')"
   ]
  },
  {
   "cell_type": "code",
   "execution_count": 4,
   "metadata": {
    "collapsed": false
   },
   "outputs": [],
   "source": [
    "def get_carto_map(tablename, colname):\n",
    "    import requests\n",
    "    import json\n",
    "    cred = json.load(open('credentials.json')) # modify credentials.json.sample\n",
    "\n",
    "    username = cred['username']\n",
    "    api_key  = cred['api_key']\n",
    "    maps_api_call_template = \"https://{username}.carto.com/api/v1/map/named?api_key={api_key}\"\n",
    "    headers = {'Content-Type': 'application/json'}\n",
    "    mapconfig = '''\n",
    "{\n",
    "  \"version\": \"0.0.1\",\n",
    "  \"name\": \"andy_cartocamp_test2\",\n",
    "  \"auth\": {\n",
    "      \"method\": \"open\"\n",
    "  },\n",
    "  \"layergroup\": {\n",
    "    \"layers\": [\n",
    "      {\n",
    "        \"type\": \"mapnik\",\n",
    "        \"options\": {\n",
    "          \"cartocss_version\": \"2.1.1\",\n",
    "          \"cartocss\": \"#layer { marker-fill: #FFF; }\",\n",
    "          \"sql\": \"select * from %(tablename)s\"\n",
    "        }\n",
    "      }\n",
    "    ]\n",
    "  },\n",
    "  \"view\": {\n",
    "    \"zoom\": 12,\n",
    "    \"center\": {\n",
    "      \"lng\": -74.0059,\n",
    "      \"lat\": 40.7127\n",
    "    }\n",
    "  }\n",
    "}\n",
    "    ''' % {'tablename': tablename}\n",
    "    print(type(json.loads(mapconfig)))\n",
    "    payload = {'data': json.dumps(json.loads(mapconfig))}\n",
    "    print(json.loads(mapconfig))\n",
    "    print (maps_api_call_template.format(username=username, api_key=api_key))\n",
    "    resp = requests.post(maps_api_call_template.format(username=username,\n",
    "                                                       api_key=api_key),\n",
    "                         headers=headers,\n",
    "                         data=json.dumps(payload))\n",
    "    print(resp.text)"
   ]
  },
  {
   "cell_type": "code",
   "execution_count": 5,
   "metadata": {
    "collapsed": false
   },
   "outputs": [
    {
     "name": "stdout",
     "output_type": "stream",
     "text": [
      "<type 'dict'>\n",
      "{u'version': u'0.0.1', u'view': {u'zoom': 12, u'center': {u'lat': 40.7127, u'lng': -74.0059}}, u'name': u'andy_cartocamp_test2', u'auth': {u'method': u'open'}, u'layergroup': {u'layers': [{u'type': u'mapnik', u'options': {u'cartocss': u'#layer { marker-fill: #FFF; }', u'sql': u'select * from high_rollers', u'cartocss_version': u'2.1.1'}}]}}\n",
      "https://eschbacher.carto.com/api/v1/map/named?api_key=05a458d3a45d1237699a4ee05297bb92accce3f4\n",
      "{\"errors\":[\"Unsupported template version undefined\"],\"errors_with_context\":[{\"type\":\"unknown\",\"message\":\"Unsupported template version undefined\"}]}\n"
     ]
    }
   ],
   "source": [
    "get_carto_map('high_rollers', 'passenger_count')"
   ]
  },
  {
   "cell_type": "code",
   "execution_count": null,
   "metadata": {
    "collapsed": true
   },
   "outputs": [],
   "source": []
  }
 ],
 "metadata": {
  "kernelspec": {
   "display_name": "Python 2",
   "language": "python",
   "name": "python2"
  },
  "language_info": {
   "codemirror_mode": {
    "name": "ipython",
    "version": 2
   },
   "file_extension": ".py",
   "mimetype": "text/x-python",
   "name": "python",
   "nbconvert_exporter": "python",
   "pygments_lexer": "ipython2",
   "version": "2.7.13"
  }
 },
 "nbformat": 4,
 "nbformat_minor": 2
}
