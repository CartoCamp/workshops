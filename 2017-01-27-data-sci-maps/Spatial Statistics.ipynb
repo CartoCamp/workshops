{
 "cells": [
  {
   "cell_type": "markdown",
   "metadata": {},
   "source": [
    "## Spatial Stats\n",
    "\n",
    "Spatial statistics haven't made a strong inroads into the data science community despite the fact that there are many powerful tools which leverage the additional information in the spatial structure of the data. \n",
    "\n",
    "For most standard statistics, there's a spatial analogue. One example, **Geographically weighted regression** is one method, which operates under the assumption that there's a spatial variance in the distribution of data and that the more local patterns better explain/describe relationships than global patterns.\n",
    "\n",
    "There are some cool libraries that expose these questions. One library I've spent a lot of time with is [PySAL](https://github.com/pysal/pysal). I've pulled in some functions into CARTO for our spatial analytics extenion to PostgreSQL:\n",
    "\n",
    "\n",
    "### Functions\n",
    "\n",
    "* Geographically Weighted Regression -- spatial varying regression (coming soon, [PR'd here](https://github.com/CartoDB/crankshaft/pull/146))\n",
    "* Moran's I -- spatial autocorrelation\n",
    "    * detect spatial clusters (areas like their neighbors)\n",
    "    * detect spatial outliers (areas not like their neighbors)\n",
    "* Getis-Ord's G* -- spatially significant hot and cold spots\n",
    "* Spatial Interaction Models -- describe flows between origins and destinations\n",
    "* Max-p: Contiguous and conditional clustering (coming soon, [Pr'd here](https://github.com/CartoDB/crankshaft/pull/160)) that is a [method in accessible in PySAL](https://github.com/pysal/pysal/blob/master/pysal/region/maxp.py)"
   ]
  }
 ],
 "metadata": {
  "kernelspec": {
   "display_name": "Python 2",
   "language": "python",
   "name": "python2"
  },
  "language_info": {
   "codemirror_mode": {
    "name": "ipython",
    "version": 2
   },
   "file_extension": ".py",
   "mimetype": "text/x-python",
   "name": "python",
   "nbconvert_exporter": "python",
   "pygments_lexer": "ipython2",
   "version": "2.7.13"
  }
 },
 "nbformat": 4,
 "nbformat_minor": 2
}
