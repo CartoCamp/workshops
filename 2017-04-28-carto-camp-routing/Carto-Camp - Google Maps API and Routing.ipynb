{
 "cells": [
  {
   "cell_type": "code",
   "execution_count": null,
   "metadata": {},
   "outputs": [],
   "source": [
    "import pandas as pd\n",
    "import numpy as np\n",
    "import googlemaps\n",
    "import time\n",
    "import os.path\n",
    "import json\n",
    "import datetime\n",
    "import warnings\n",
    "warnings.filterwarnings('ignore')\n",
    "import polyline"
   ]
  },
  {
   "cell_type": "code",
   "execution_count": null,
   "metadata": {
    "collapsed": true
   },
   "outputs": [],
   "source": [
    "## Courtesy Andy Eschbacher - a part of his cool project Cartoframes!\n",
    "def to_carto(df, tablename=None, username=None, api_key=None):\n",
    "    import requests\n",
    "    import json\n",
    "    if tablename is None:\n",
    "        tablename = 'testing_upload'\n",
    "    tablename = ('%s.csv' % tablename)\n",
    "    df.to_csv(tablename)\n",
    "    files = {'file': open(tablename)}\n",
    "    post_template = 'https://{username}.carto.com/api/v1/imports/?api_key={api_key}'\n",
    "    try:\n",
    "        r = requests.post(post_template.format(\n",
    "                username=username,\n",
    "                api_key=api_key), files=files)\n",
    "    except Exception, err:\n",
    "        print(\"Error: %s\" % err)\n",
    "    if json.loads(r.content)['success']:\n",
    "        print('File successfully uploaded')\n",
    "    else:\n",
    "        print('File failed to upload')\n",
    "    return json.loads(r.content)['success']"
   ]
  },
  {
   "cell_type": "markdown",
   "metadata": {},
   "source": [
    "### Setting up a CARTO query template"
   ]
  },
  {
   "cell_type": "code",
   "execution_count": null,
   "metadata": {
    "collapsed": true
   },
   "outputs": [],
   "source": [
    "carto_key = 'Insert your CARTO API key here'\n",
    "username = 'Insert your username here'\n",
    "#Please do not leave any spaces or it will fail!\n",
    "\n",
    "#Insert your CARTO API key i.e. -> carto_key = 'xxxxxxxxxxxxxxxxxxxxxxxxxxxx'"
   ]
  },
  {
   "cell_type": "code",
   "execution_count": null,
   "metadata": {},
   "outputs": [],
   "source": [
    "query_template = 'http://{username}.cartodb.com/api/v2/sql?q={query}&format=csv&api_key={api_key}'\n",
    "query = \"SELECT * FROM citibike_mar17\".replace(' ', '%20')\n",
    "\n",
    "citibike = pd.read_csv(query_template.format(username=username, api_key=carto_key, query=query))"
   ]
  },
  {
   "cell_type": "markdown",
   "metadata": {},
   "source": [
    "### Randomly selecting one bike and one day"
   ]
  },
  {
   "cell_type": "code",
   "execution_count": null,
   "metadata": {},
   "outputs": [],
   "source": [
    "random = \"SELECT trip_data.cartodb_id, trip_data.bike_id, trip_data.start_time, trip_data.stop_time, trip_data.trip_duration, trip_data.start_station_name, trip_data.end_station_name, trip_data.start_station_latitude, trip_data.start_station_longitude, trip_data.end_station_latitude, trip_data.end_station_longitude FROM( SELECT bike_id, start_time, stop_time, start_station_name, end_station_name, trip_duration, cartodb_id, start_station_latitude, start_station_longitude, end_station_latitude, end_station_longitude FROM citibike_mar17 as a JOIN(SELECT unnest(Array[26920, 26785, 25818, 26541, 25597, 26354]) as oneid, Date(start_time) onedate FROM citibike_mar17 ORDER BY RANDOM() LIMIT 1) b ON a.bike_id = b.oneid WHERE Date(start_time) = onedate ) as trip_data ORDER BY trip_data.start_time ASC\".replace(' ', '%20')\n",
    "one_trip = pd.read_csv(query_template.format(query=random))\n",
    "one_trip"
   ]
  },
  {
   "cell_type": "markdown",
   "metadata": {},
   "source": [
    "### Google Maps Directions API"
   ]
  },
  {
   "cell_type": "code",
   "execution_count": null,
   "metadata": {},
   "outputs": [],
   "source": [
    "gmaps = googlemaps.Client(key='Insert your Google Maps API key here')"
   ]
  },
  {
   "cell_type": "markdown",
   "metadata": {},
   "source": [
    "#### `node` is our list with all routes and `durations` is our list with all durations"
   ]
  },
  {
   "cell_type": "code",
   "execution_count": null,
   "metadata": {
    "collapsed": true
   },
   "outputs": [],
   "source": [
    "node = list()\n",
    "durations = list()"
   ]
  },
  {
   "cell_type": "markdown",
   "metadata": {},
   "source": [
    "### Using Google Maps Directions API to get routes for all pairs of origins and destinations"
   ]
  },
  {
   "cell_type": "code",
   "execution_count": null,
   "metadata": {},
   "outputs": [],
   "source": [
    "for r in range(len(one_trip)):\n",
    "    origin = str(one_trip['start_station_latitude'][r]), str(one_trip['start_station_longitude'][r])\n",
    "    destination = str(one_trip['end_station_latitude'][r]), str(one_trip['end_station_longitude'][r])\n",
    "    start = one_trip['start_time'][r][:19]\n",
    "    dt = datetime.datetime.strptime(start, \"%Y-%m-%d %H:%M:%S\")\n",
    "    date = datetime.datetime(dt.year, dt.month+2, dt.day,dt.hour,dt.minute,dt.second)\n",
    "    directions_result = gmaps.directions(origin,\n",
    "                                     destination,\n",
    "                                     mode=\"bicycling\",\n",
    "                                    departure_time = date)\n",
    "    node.append(polyline.decode(directions_result[0]['overview_polyline']['points']))\n",
    "    durations.append(directions_result[0]['legs'][0]['duration']['value'])"
   ]
  },
  {
   "cell_type": "code",
   "execution_count": null,
   "metadata": {},
   "outputs": [],
   "source": [
    "origin = str(one_trip['start_station_latitude'][0]), str(one_trip['start_station_longitude'][0])\n",
    "destination = str(one_trip['end_station_latitude'][0]), str(one_trip['end_station_longitude'][0])\n",
    "start = one_trip['start_time'][0][:19]\n",
    "dt = datetime.datetime.strptime(start, \"%Y-%m-%d %H:%M:%S\")\n",
    "date = datetime.datetime(dt.year, dt.month+2, dt.day,dt.hour,dt.minute,dt.second)"
   ]
  },
  {
   "cell_type": "markdown",
   "metadata": {},
   "source": [
    "### Making a DataFrame from our response"
   ]
  },
  {
   "cell_type": "code",
   "execution_count": null,
   "metadata": {},
   "outputs": [],
   "source": [
    "length = 0\n",
    "for r in range(len(node)):\n",
    "    length = length + len(node[r])"
   ]
  },
  {
   "cell_type": "code",
   "execution_count": null,
   "metadata": {},
   "outputs": [],
   "source": [
    "length"
   ]
  },
  {
   "cell_type": "code",
   "execution_count": null,
   "metadata": {
    "collapsed": true
   },
   "outputs": [],
   "source": [
    "latlon = pd.DataFrame(index=np.arange(length),columns={'lat','lon','trip_id','duration'})"
   ]
  },
  {
   "cell_type": "code",
   "execution_count": null,
   "metadata": {
    "collapsed": true
   },
   "outputs": [],
   "source": [
    "q = 0\n",
    "c = 0\n",
    "t = 0\n",
    "r = 0\n",
    "p = 0\n",
    "stop = 0"
   ]
  },
  {
   "cell_type": "code",
   "execution_count": null,
   "metadata": {},
   "outputs": [],
   "source": [
    "for r in range(len(node)):\n",
    "    c = c + q\n",
    "    for t in range(len(node[r])):\n",
    "        p = c + t\n",
    "        latlon['trip_id'][p] = r\n",
    "        latlon['lat'][p] = node[r][t][0]\n",
    "        latlon['lon'][p] = node[r][t][1]\n",
    "        if (q==0):\n",
    "            latlon['duration'][p] = 0\n",
    "        else:\n",
    "            latlon['duration'][p] = latlon['duration'][p-1] + durations[r]/len(node[r]) + stop\n",
    "        q = len(node[r])\n",
    "    stop = 30\n",
    "    #simlulating station stop "
   ]
  },
  {
   "cell_type": "code",
   "execution_count": null,
   "metadata": {},
   "outputs": [],
   "source": [
    "latlon.isnull().values.any()"
   ]
  },
  {
   "cell_type": "markdown",
   "metadata": {},
   "source": [
    "### Output tables\n",
    "\n",
    "#### Load directly into CARTO"
   ]
  },
  {
   "cell_type": "code",
   "execution_count": null,
   "metadata": {},
   "outputs": [],
   "source": [
    "to_carto(latlon, tablename = 'random_trip_route', username='Insert your username', api_key='Insert you API key')"
   ]
  },
  {
   "cell_type": "code",
   "execution_count": null,
   "metadata": {},
   "outputs": [],
   "source": [
    "to_carto(one_trip, tablename = 'random-trip-stations', username='Insert your username', api_key='Insert your API key')"
   ]
  },
  {
   "cell_type": "markdown",
   "metadata": {},
   "source": [
    "#### Or Download as .csv"
   ]
  },
  {
   "cell_type": "code",
   "execution_count": null,
   "metadata": {
    "collapsed": true
   },
   "outputs": [],
   "source": [
    "latlon.to_csv('random_trip_route.csv')"
   ]
  },
  {
   "cell_type": "code",
   "execution_count": null,
   "metadata": {},
   "outputs": [],
   "source": [
    "one_trip.to_csv('random_trip_stations.csv')"
   ]
  }
 ],
 "metadata": {
  "kernelspec": {
   "display_name": "Python 2",
   "language": "python",
   "name": "python2"
  },
  "language_info": {
   "codemirror_mode": {
    "name": "ipython",
    "version": 2
   },
   "file_extension": ".py",
   "mimetype": "text/x-python",
   "name": "python",
   "nbconvert_exporter": "python",
   "pygments_lexer": "ipython2",
   "version": "2.7.12"
  }
 },
 "nbformat": 4,
 "nbformat_minor": 1
}
